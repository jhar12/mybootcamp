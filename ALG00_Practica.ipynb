{
 "cells": [
  {
   "cell_type": "markdown",
   "metadata": {},
   "source": [
    "# Práctica"
   ]
  },
  {
   "cell_type": "markdown",
   "metadata": {},
   "source": [
    "## 1. La conjetura de Collatz\n",
    "\n",
    "Escribir un procedimiento en Python que implemente el mecanismo de la conjetura de Collatz para cualquier número entero positivo."
   ]
  },
  {
   "cell_type": "code",
   "execution_count": 6,
   "metadata": {},
   "outputs": [
    {
     "name": "stdout",
     "output_type": "stream",
     "text": [
      "escribe un numero: 12\n",
      "6.0\n",
      "3.0\n",
      "10.0\n",
      "5.0\n",
      "16.0\n",
      "8.0\n",
      "4.0\n",
      "2.0\n",
      "1.0\n",
      "\n",
      " 12  es un numero de collazt por que da  1.0\n"
     ]
    }
   ],
   "source": [
    "def par(n):\n",
    "    return n/2\n",
    "\n",
    "def impar(n):\n",
    "    return n*3+1\n",
    "\n",
    "def collatz(num):\n",
    "    if num==1:# el numero 1 es un numero de collazt por que 1*3+1=4, 4/2=2, 2/2=1\n",
    "        return 1.0\n",
    "    while num !=1:\n",
    "        if num%2==0:\n",
    "            num=par(num)\n",
    "            print(num)\n",
    "        elif num%2 !=0:\n",
    "            num=impar(num)\n",
    "            print(num)\n",
    "    return num       \n",
    "\n",
    "num=int(input('escribe un numero: '))\n",
    "print('\\n',num,' es un numero de collazt por que da ',collatz(num))\n"
   ]
  },
  {
   "cell_type": "markdown",
   "metadata": {},
   "source": [
    "## 2. Suma y producto escalar combinados\n",
    "\n",
    "Usando los procedimientos add y mult_vector_escalar definidos en el notebook **ALG05_Vectores**, calcular:   \n",
    "{$\\alpha$[1,2]+[3,4] : $\\alpha$$\\in$$\\mathbb{R}$, 0$\\leq$$\\alpha$$\\leq$1, con una precision de dos decimales (para la multiplicación)}"
   ]
  },
  {
   "cell_type": "code",
   "execution_count": 7,
   "metadata": {},
   "outputs": [
    {
     "name": "stdout",
     "output_type": "stream",
     "text": [
      "[3.0, 4.0]\n",
      "[3.01, 4.02]\n",
      "[3.02, 4.04]\n",
      "[3.03, 4.06]\n",
      "[3.04, 4.08]\n",
      "[3.05, 4.1]\n",
      "[3.06, 4.12]\n",
      "[3.07, 4.14]\n",
      "[3.08, 4.16]\n",
      "[3.09, 4.18]\n",
      "[3.1, 4.2]\n",
      "[3.11, 4.22]\n",
      "[3.12, 4.24]\n",
      "[3.13, 4.26]\n",
      "[3.14, 4.28]\n",
      "[3.15, 4.3]\n",
      "[3.16, 4.32]\n",
      "[3.17, 4.34]\n",
      "[3.18, 4.36]\n",
      "[3.19, 4.38]\n",
      "[3.2, 4.4]\n",
      "[3.21, 4.42]\n",
      "[3.22, 4.44]\n",
      "[3.23, 4.46]\n",
      "[3.24, 4.48]\n",
      "[3.25, 4.5]\n",
      "[3.26, 4.52]\n",
      "[3.27, 4.54]\n",
      "[3.2800000000000002, 4.5600000000000005]\n",
      "[3.29, 4.58]\n",
      "[3.3, 4.6]\n",
      "[3.31, 4.62]\n",
      "[3.32, 4.64]\n",
      "[3.33, 4.66]\n",
      "[3.34, 4.68]\n",
      "[3.35, 4.7]\n",
      "[3.36, 4.72]\n",
      "[3.37, 4.74]\n",
      "[3.38, 4.76]\n",
      "[3.39, 4.78]\n",
      "[3.4, 4.8]\n",
      "[3.41, 4.82]\n",
      "[3.42, 4.84]\n",
      "[3.43, 4.86]\n",
      "[3.44, 4.88]\n",
      "[3.45, 4.9]\n",
      "[3.46, 4.92]\n",
      "[3.47, 4.94]\n",
      "[3.48, 4.96]\n",
      "[3.49, 4.98]\n",
      "[3.5, 5.0]\n",
      "[3.51, 5.02]\n",
      "[3.52, 5.04]\n",
      "[3.5300000000000002, 5.0600000000000005]\n",
      "[3.54, 5.08]\n",
      "[3.55, 5.1]\n",
      "[3.56, 5.12]\n",
      "[3.5700000000000003, 5.140000000000001]\n",
      "[3.58, 5.16]\n",
      "[3.59, 5.18]\n",
      "[3.6, 5.2]\n",
      "[3.61, 5.22]\n",
      "[3.62, 5.24]\n",
      "[3.63, 5.26]\n",
      "[3.64, 5.28]\n",
      "[3.65, 5.3]\n",
      "[3.66, 5.32]\n",
      "[3.67, 5.34]\n",
      "[3.68, 5.36]\n",
      "[3.69, 5.38]\n",
      "[3.7, 5.4]\n",
      "[3.71, 5.42]\n",
      "[3.7199999999999998, 5.4399999999999995]\n",
      "[3.73, 5.46]\n",
      "[3.74, 5.48]\n",
      "[3.75, 5.5]\n",
      "[3.76, 5.52]\n",
      "[3.77, 5.54]\n",
      "[3.7800000000000002, 5.5600000000000005]\n",
      "[3.79, 5.58]\n",
      "[3.8, 5.6]\n",
      "[3.81, 5.62]\n",
      "[3.8200000000000003, 5.640000000000001]\n",
      "[3.83, 5.66]\n",
      "[3.84, 5.68]\n",
      "[3.85, 5.7]\n",
      "[3.86, 5.72]\n",
      "[3.87, 5.74]\n",
      "[3.88, 5.76]\n",
      "[3.89, 5.78]\n",
      "[3.9, 5.8]\n",
      "[3.91, 5.82]\n",
      "[3.92, 5.84]\n",
      "[3.93, 5.86]\n",
      "[3.94, 5.88]\n",
      "[3.95, 5.9]\n",
      "[3.96, 5.92]\n",
      "[3.9699999999999998, 5.9399999999999995]\n",
      "[3.98, 5.96]\n",
      "[3.99, 5.98]\n",
      "[4.0, 6.0]\n"
     ]
    }
   ],
   "source": [
    "#esta funcion suma dos vectores\n",
    "import numpy as np\n",
    "def add(v,w):\n",
    "    return [v[0]+w[0],v[1]+w[1]]\n",
    "\n",
    "\n",
    "#esta funcion multiplica un escalar por un vector \n",
    "def mult_vector_escalar(alpha,v):\n",
    "    return[alpha*v[i] for i in range(len(v))]\n",
    "\n",
    "# multiplicar \\alfa*[1.2] y sumar [3,5]\n",
    "u=[1,2]\n",
    "v=[3,4]\n",
    "\n",
    "for i in np.arange(0,1.01,0.01):\n",
    "    suma=add(mult_vector_escalar(i,u),v)\n",
    "    print(suma)"
   ]
  },
  {
   "cell_type": "markdown",
   "metadata": {},
   "source": [
    "## 3. El secreto perfecto\n",
    "\n",
    "Representa la encriptación de la adicción de un n-vector a un n-vector de GF(2)  \n",
    "\n",
    "<img src=\"Images/mortadelo-filemon.jpg\" style=\"width: 300px;\"/>\n",
    "\n",
    "Mortadelo y Filemón usan como clave el siguiente vector:  \n",
    "**k**=[0,1,0,0,1,0,1,0,1,0] \n",
    "\n",
    "Mortadelo quiere enviarle a Filemón el siguiente mensaje:  \n",
    "**p**=[0,0,0,1,1,1,0,1,0,1] \n",
    "\n",
    "Mortadelo encripta su mensaje añadiendo k: \n",
    "**c=p+k**=[0,0,0,1,1,1,0,1,0,1]+[0,1,0,0,1,0,1,0,1,0]=[0,1,0,1,0,1,1,1,1,1] \n",
    "\n",
    "Cuando Filemón recibe el mensaje, lo desencripta añadiendo **k** a lo que ha recibido \n",
    "**p**=**c**+**k**=[0,1,0,1,0,1,1,1,1,1]+[0,1,0,0,1,0,1,0,1,0]=[0,0,0,1,1,1,0,1,0,1]    \n",
    "\n",
    "que es el mensaje original.\n",
    "\n",
    "La idea es crear un procedimiento para que Filemón:\n",
    "* No tenga que hacer este proceso manualmente cada vez que Mortadelo le envíe un mensaje encriptado para descifrarlo\n",
    "* Si deciden cambiar la clave, que el procedimiento cambie mínimamente\n",
    "\n",
    "  \n"
   ]
  },
  {
   "cell_type": "markdown",
   "metadata": {},
   "source": [
    "La suma **c** de la clave **k** al mensaje **p** encripta el mensaje  \n",
    "\n",
    "\n",
    "**c=p+k** \n",
    "\n",
    "\n",
    "La suma de **p** del mensaje encriptado **c** mas **k** nos desencripta el mensaje original \n",
    "\n",
    "**p=c+k**\n",
    "\n",
    "\n",
    "como es una una suma en *Campo de Galois* cuando $1+1=2 \\ \\rightarrow 0$ ( osea que cuando sea 2 ponemos 0)  \n",
    "como lo que pide es que desencripte el mensaje solo llama a la funcion de desencriptar y para este ejemplo voy a entrar  \n",
    "la lista de numeros **c** encriptados por la clave **k**  \n",
    "\n"
   ]
  },
  {
   "cell_type": "code",
   "execution_count": 1,
   "metadata": {},
   "outputs": [
    {
     "name": "stdout",
     "output_type": "stream",
     "text": [
      "escribe el mensaje que quieres desencriptar\n",
      "escribe un digito(0 - 1): 0\n",
      "escribe un digito(0 - 1): 1\n",
      "escribe un digito(0 - 1): 0\n",
      "escribe un digito(0 - 1): 1\n",
      "escribe un digito(0 - 1): 0\n",
      "escribe un digito(0 - 1): 1\n",
      "escribe un digito(0 - 1): 1\n",
      "escribe un digito(0 - 1): 1\n",
      "escribe un digito(0 - 1): 1\n",
      "escribe un digito(0 - 1): 1\n",
      "el mensaje desencriptado es  [0, 0, 0, 1, 1, 1, 0, 1, 0, 1]\n"
     ]
    }
   ],
   "source": [
    "k=[0,1,0,0,1,0,1,0,1,0]# la clave de encriptacion\n",
    "\n",
    "def addn(v,w): #funcion que suma dos vectores\n",
    "    return [v[i]+w[i] for i in range(len(v))]\n",
    "    \n",
    "def desencripta(k,c):\n",
    "    p=addn(k,c)# la lista que contiene el mensaje desencriptado\n",
    "    for i in p:\n",
    "        #print(i)\n",
    "        if i==2:# al 2 lo cambio por 0\n",
    "            indice=p.index(i) # si el indice es == 2 lo guardo\n",
    "            p[indice]=0 # al indice que tiene como valor 2 le asigno un cero\n",
    "    return p        \n",
    "            \n",
    "\n",
    "def encripta(k,p):\n",
    "    c=addn(k,p)# la lista que contiene el mensaje encriptado\n",
    "    for i in c:\n",
    "        #print(i)\n",
    "        if i==2:# al 2 lo cambio por 0\n",
    "            indice=c.index(i) # si el indice es == 2 lo guardo\n",
    "            c[indice]=0 # al indice que tiene como valor 2 le asigno un cero\n",
    "            \n",
    "    return c\n",
    "\n",
    "p=[]\n",
    "print('escribe el mensaje que quieres desencriptar')\n",
    "for i in range(0,len(k)):\n",
    "    p1=int(input('escribe un digito(0 - 1): '))\n",
    "    p.append(p1)\n",
    "               \n",
    "print('el mensaje desencriptado es ', desencripta(k,p)) \n",
    "\n",
    "    "
   ]
  },
  {
   "cell_type": "markdown",
   "metadata": {},
   "source": [
    "## 4. ¿Cuánto cuesta hacer una cerveza?\n",
    "\n",
    "<img src=\"Images/cerveza.jpg\" style=\"width: 300px;\"/>\n",
    "\n",
    "Supongamos que D es el conjunto de algunos ingredientes de la cerveza: \n",
    "> D={lúpulo, malta, agua, levadura} \n",
    "\n",
    "Por otro lado tenemos el vector coste:\n",
    "> coste={lúpulo: 2,5€, malta: 1.5€, agua: 0.006€, levadura: 0,45€}  \n",
    "\n",
    "Por último tenemos el vector cantidad con lo necesario para hacer una cerveza:\n",
    "> cantidad={lúpulo: 6u, malta: 14u, agua: 7u, levadura: 11u} \n",
    "\n",
    "¿Cuánto cuesta hacer una cerveza?"
   ]
  },
  {
   "cell_type": "markdown",
   "metadata": {},
   "source": [
    "Esto es el producto vectorial del coste de cada ingrediente por la cantidad de cada ingrediente  \n",
    "$\\vec{c}=(2.5,1.5,0.006,0.45)$   $\\vec{k}=(6,14,7,11)$"
   ]
  },
  {
   "cell_type": "code",
   "execution_count": 4,
   "metadata": {},
   "outputs": [
    {
     "name": "stdout",
     "output_type": "stream",
     "text": [
      "una cerveza cuesta:  40.99 €\n"
     ]
    }
   ],
   "source": [
    "def  producto_escalar(c,k):\n",
    "    return sum(c[i]*k[i] for i in range(len(c)))\n",
    "\n",
    "c=[2.5,1.5,0.006,0.45]\n",
    "k=[6,14,7,11]\n",
    "\n",
    "print('una cerveza cuesta: ', round(producto_escalar(c,k),2),'€')"
   ]
  },
  {
   "cell_type": "markdown",
   "metadata": {},
   "source": [
    "## 5. La carrera de caballos\n",
    "\n",
    "Tres caballos A, B y C compiten en una carrera.  \n",
    "Las apuestas para dar como vencedor a cada uno de ellos son de 4 a 1 para A, 3 a 1 para B y 2 a 1 para C, tomando las unidades siempre en euros.  \n",
    "¿Cuánto debo apostar por cada caballo para asegurarme recibir 13 euros en toal, sin importar qué csaballo gane la carrera?"
   ]
  },
  {
   "cell_type": "markdown",
   "metadata": {},
   "source": [
    "Sean x,y,z el dinero apostado por los caballos A, B y C respectivamente.\n",
    "El objetivo del problema escalcular la cantidad que debe apostarse por cada caballo de forma que la suma del dinero recibido y perdido en ñas apuestas sea siempre igual a 13€.  \n",
    "Así, podemos plantear un sistema de tres ecuaciones con tres incógnitas, en el que igualaremos matemáticamente la cantidad percibida por la victoria de los caballos A, B, C y, al mismo tiempo, señalaremos que esta cantidad corresponde a 13€.  \n",
    "\n",
    "> 4x-y-z=3y-x-z  \n",
    "> 3y-x-z=2z-x-y  \n",
    "> 2z-x-y=13\n"
   ]
  },
  {
   "cell_type": "markdown",
   "metadata": {},
   "source": [
    "> 4x-y-z=3y-x-z  \n",
    "> 3y-x-z=2z-x-y  \n",
    "> 2z-x-y=13\n",
    "\n",
    "Este sistema hay que intenetar ordenarlo.  \n",
    "Quedando así:  \n",
    "> 5x-4y   =0  \n",
    ">    4y-3z=0  \n",
    "> -x-y +2z=13   \n",
    "\n"
   ]
  },
  {
   "cell_type": "code",
   "execution_count": 8,
   "metadata": {},
   "outputs": [
    {
     "data": {
      "text/plain": [
       "{x: 12, y: 15, z: 20}"
      ]
     },
     "execution_count": 8,
     "metadata": {},
     "output_type": "execute_result"
    }
   ],
   "source": [
    "from sympy import Matrix, solve_linear_system\n",
    "from sympy.abc import x,y,z\n",
    "\n",
    "A=Matrix([\n",
    "    [5,-4,0,0],\n",
    "    [0,4,-3,0],\n",
    "    [-1,-1,2,13]\n",
    "])\n",
    "\n",
    "solve_linear_system(A,x,y,z)"
   ]
  },
  {
   "cell_type": "markdown",
   "metadata": {},
   "source": [
    "## 6. Dimensión de matrices\n",
    "\n",
    "Sea la matriz $\n",
    "  M=\n",
    "  \\left[ {\\begin{array}{cc}\n",
    "   1 & 0  & 0 & 5 \\\\\n",
    "   0 & 2  & 0 & 7 \\\\\n",
    "   0 & 0  & 3 & 9 \\\\\n",
    "  \\end{array} } \\right]\n",
    "$. Calcular el rango por filas y por columnas usando Python."
   ]
  },
  {
   "cell_type": "markdown",
   "metadata": {},
   "source": [
    "#### Rango de la matriz por filas"
   ]
  },
  {
   "cell_type": "code",
   "execution_count": 5,
   "metadata": {},
   "outputs": [
    {
     "name": "stdout",
     "output_type": "stream",
     "text": [
      "el rango de la matriz por filas es  3\n"
     ]
    }
   ],
   "source": [
    "import numpy as np\n",
    "M=np.matrix([\n",
    "    [1,0,0,5],\n",
    "    [0,2,0,7],\n",
    "    [0,0,3,9]\n",
    "])\n",
    "rangoM=np.linalg.matrix_rank(M)\n",
    "print('el rango de la matriz por filas es ',rangoM)"
   ]
  },
  {
   "cell_type": "markdown",
   "metadata": {},
   "source": [
    "#### Rango de la matriz por columnas "
   ]
  },
  {
   "cell_type": "code",
   "execution_count": 4,
   "metadata": {},
   "outputs": [
    {
     "name": "stdout",
     "output_type": "stream",
     "text": [
      "el rango de la matriz por columnas es  3\n"
     ]
    }
   ],
   "source": [
    "import numpy as np\n",
    "M=np.matrix([\n",
    "    [1,0,0,5],\n",
    "    [0,2,0,7],\n",
    "    [0,0,3,9]\n",
    "])\n",
    "MT=np.transpose(M) #transpongo la matriz\n",
    "\n",
    "rangoMT=np.linalg.matrix_rank(MT)\n",
    "print('el rango de la matriz por columnas es ',rangoMT)"
   ]
  },
  {
   "cell_type": "markdown",
   "metadata": {},
   "source": [
    "## 7. Bosque de extensión mínima\n",
    "\n",
    "<img src=\"Images/bosque.png\" style=\"width: 800px;\"/>\n",
    "\n",
    "En clase hemos hecho el caso del grafo de la derecha. Le toca el turno al de la izquierda.\n",
    "Supongamos que queremos diseñar la red de internet para el otro campus universitario.  \n",
    "La red debe lograr la misma conectividad que el grafo de entrada.  \n",
    "Una arista representa un posible cable.  \n",
    "El peso de la arista es el coste de instalar el cable.  \n",
    "Nuestro objetivo es minimizar el coste total, usando el algoritmo Grow y el algoritmo Shrink.\n",
    "Lo único que en este caso se pide crear un procedimiento para el algoritmo Grow y otro para el Shrink que lo hagan automáticamente una vez les metamos como parámetros las aristas y sus pesos"
   ]
  },
  {
   "cell_type": "code",
   "execution_count": null,
   "metadata": {},
   "outputs": [],
   "source": []
  },
  {
   "cell_type": "code",
   "execution_count": null,
   "metadata": {},
   "outputs": [],
   "source": []
  },
  {
   "cell_type": "code",
   "execution_count": null,
   "metadata": {},
   "outputs": [],
   "source": []
  }
 ],
 "metadata": {
  "kernelspec": {
   "display_name": "Python 3",
   "language": "python",
   "name": "python3"
  },
  "language_info": {
   "codemirror_mode": {
    "name": "ipython",
    "version": 3
   },
   "file_extension": ".py",
   "mimetype": "text/x-python",
   "name": "python",
   "nbconvert_exporter": "python",
   "pygments_lexer": "ipython3",
   "version": "3.7.3"
  }
 },
 "nbformat": 4,
 "nbformat_minor": 2
}
